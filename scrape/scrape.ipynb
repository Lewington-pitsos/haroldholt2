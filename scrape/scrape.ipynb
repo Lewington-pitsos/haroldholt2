{
 "cells": [
  {
   "cell_type": "code",
   "execution_count": 1,
   "metadata": {},
   "outputs": [],
   "source": [
    "import tweepy\n",
    "import json"
   ]
  },
  {
   "cell_type": "code",
   "execution_count": 2,
   "metadata": {},
   "outputs": [],
   "source": [
    "with open('keys.json') as f:\n",
    "    keys = json.load(f)"
   ]
  },
  {
   "cell_type": "code",
   "execution_count": 3,
   "metadata": {},
   "outputs": [],
   "source": [
    "auth = tweepy.OAuthHandler(keys['APIKey'], keys['secret'])\n",
    "\n",
    "api = tweepy.API(auth)"
   ]
  },
  {
   "cell_type": "code",
   "execution_count": 11,
   "metadata": {},
   "outputs": [
    {
     "name": "stdout",
     "output_type": "stream",
     "text": [
      "RT @Sino_Market: #Windpower sector surge in early trading with more than 10 related-stocks hitting limit-up. \n",
      "#China is likely to overtake…\n",
      "RT @ArwenES25: El nuevo orden Mundial ...\n",
      "\n",
      " Fase 1: simula una amenaza y crea miedo. (Diciembre de 2019-marzo de 2020)\n",
      " - Montar una pandem…\n",
      "RT @TensayTadesse1: Thanks #China_Russia_India_Kenya for standing with #ETH at this defining moment even though today is the day we lost ou…\n",
      "“新疆の人権問題、国連43カ国が非難声明　中国は反論” (23 users) https://t.co/tSg1AIuFT9 #あとで読む\n",
      "RT @SDG2030: This hydrogen-powered train emits only water. China’s 🇨🇳 first hydrogen fuel cell hybrid locomotive has begun a trial run in I…\n",
      "RT @24HorasTVN: 💠 #DeutscheWelle\n",
      "\n",
      "China ya era responsable de una cuarta parte de las emisiones previamente.\n",
      "\n",
      "China es responsable del 31%…\n",
      "RT @PonchoGutz: Qué triste que los panistas no quieran obligar a China a dejar de contaminar, con eso de que tienen el poder de doblegar go…\n",
      "🇪🇺🇺🇸 agreement \"would use tariffs or other tools to encourage the production and trade of metals made with fewer ca… https://t.co/0tM24hXMRu\n",
      "@BenPhil25072213 Where’s all that Australian manufacturing gone? That taboo place called China. With the help of the NeoLNP. Of course.\n",
      "@DominickBarret5 @cspotweet @yfblanchet And also, in that case, everyone that is an end user of product from China… https://t.co/ljks3ETmN5\n"
     ]
    }
   ],
   "source": [
    "api = tweepy.API(auth)\n",
    "for tweet in tweepy.Cursor(api.search_tweets, q='china').items(10):\n",
    "    print(tweet.text)"
   ]
  },
  {
   "cell_type": "code",
   "execution_count": null,
   "metadata": {},
   "outputs": [],
   "source": []
  }
 ],
 "metadata": {
  "kernelspec": {
   "display_name": "hholt2",
   "language": "python",
   "name": "hholt2"
  },
  "language_info": {
   "codemirror_mode": {
    "name": "ipython",
    "version": 3
   },
   "file_extension": ".py",
   "mimetype": "text/x-python",
   "name": "python",
   "nbconvert_exporter": "python",
   "pygments_lexer": "ipython3",
   "version": "3.9.7"
  }
 },
 "nbformat": 4,
 "nbformat_minor": 4
}
